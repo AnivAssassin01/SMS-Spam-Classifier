{
 "cells": [
  {
   "cell_type": "code",
   "execution_count": 8,
   "id": "f60f7819-b45c-407f-a9a2-4bb1056258e4",
   "metadata": {},
   "outputs": [],
   "source": [
    "#importing the libraries\n",
    "import pandas as pd\n",
    "import re\n",
    "import nltk\n",
    "\n",
    "from nltk.corpus import stopwords\n",
    "from nltk.stem import WordNetLemmatizer"
   ]
  },
  {
   "cell_type": "code",
   "execution_count": 56,
   "id": "f45a7204-0d26-4ef7-aa8e-8f8c3ff124d8",
   "metadata": {},
   "outputs": [
    {
     "name": "stdout",
     "output_type": "stream",
     "text": [
      "     label                                            message\n",
      "0      ham  Go until jurong point, crazy.. Available only ...\n",
      "1      ham                      Ok lar... Joking wif u oni...\n",
      "2     spam  Free entry in 2 a wkly comp to win FA Cup fina...\n",
      "3      ham  U dun say so early hor... U c already then say...\n",
      "4      ham  Nah I don't think he goes to usf, he lives aro...\n",
      "...    ...                                                ...\n",
      "5567  spam  This is the 2nd time we have tried 2 contact u...\n",
      "5568   ham               Will ü b going to esplanade fr home?\n",
      "5569   ham  Pity, * was in mood for that. So...any other s...\n",
      "5570   ham  The guy did some bitching but I acted like i'd...\n",
      "5571   ham                         Rofl. Its true to its name\n",
      "\n",
      "[5572 rows x 2 columns]\n",
      "5572\n",
      "label\n",
      "ham     4825\n",
      "spam     747\n",
      "Name: count, dtype: int64\n",
      "Spam percentage is 13.406317300789663 %\n"
     ]
    }
   ],
   "source": [
    "# Reading the tab-separated file\n",
    "\n",
    "texts = pd.read_csv(\"SMSSpamCollection/SMSSpamCollection\", sep = \"\\t\", names = [\"label\", \"message\"])\n",
    "\n",
    "# Above we are reading the file SMSSpamCollection from the folder SMSSpamCollection which is in the same folder as the notebook\n",
    "# sep is the separater we have between the labels, which appears first and named label column, and then message\n",
    "print(texts)\n",
    "print(texts[\"label\"].count())\n",
    "\n",
    "#finding out the number of spam, ham and the percentage of their occrance\n",
    "label_counts = texts[\"label\"].value_counts()\n",
    "print(label_counts)\n",
    "\n",
    "# Percentage of spam\n",
    "print(f\"Spam percentage is {100*(label_counts[\"spam\"]/(texts[\"label\"].count()))} %\")\n"
   ]
  },
  {
   "cell_type": "code",
   "execution_count": 66,
   "id": "55cbac13-dead-4121-92e5-ee113fcfee11",
   "metadata": {},
   "outputs": [],
   "source": [
    "#Data cleaning and pre-processing\n",
    "\n",
    "lm = WordNetLemmatizer()\n",
    "corpus = [] #creating a corpus containing entirely of only the messages, not the labels\n",
    "\n",
    "for i in range(len(texts)):\n",
    "    review = re.sub(\"[^a-zA-Z]\", \" \", texts[\"message\"][i])\n",
    "    review = review.lower()\n",
    "    review = review.split(\" \")\n",
    "    #Lemmatizing using list comprehension and stopwords:\n",
    "    review = [lm.lemmatize(word) for word in review if word not in set(stopwords.words(\"english\"))]\n",
    "    review = \" \".join(review)\n",
    "    corpus.append(review)\n",
    "\n",
    "# print(corpus)"
   ]
  },
  {
   "cell_type": "code",
   "execution_count": 76,
   "id": "5a4af20d-19cc-44ba-a346-7c4d93d8bafa",
   "metadata": {},
   "outputs": [
    {
     "data": {
      "text/plain": [
       "(5572, 5000)"
      ]
     },
     "execution_count": 76,
     "metadata": {},
     "output_type": "execute_result"
    }
   ],
   "source": [
    "#Creating Bag-of-words model\n",
    "from sklearn.feature_extraction.text import CountVectorizer\n",
    "\n",
    "cv = CountVectorizer(max_features = 5000) #vectorizer will only consider the top 5000 most frequent words (or tokens). \n",
    "#Any words beyond the 5000 most common will be ignored\n",
    "\n",
    "X = cv.fit_transform(corpus).toarray()\n",
    "\n",
    "X.shape "
   ]
  },
  {
   "cell_type": "code",
   "execution_count": 82,
   "id": "d6c98f5d-1812-4dec-a8f8-71a668799417",
   "metadata": {},
   "outputs": [
    {
     "name": "stdout",
     "output_type": "stream",
     "text": [
      "<class 'numpy.ndarray'>\n"
     ]
    }
   ],
   "source": [
    "#converting the labels into 0,1 values\n",
    "y = pd.get_dummies(texts['label']) # converting the label column of texts into 2 different columns, like one hot encoding\n",
    "\n",
    "#first, we choose all rows by :\n",
    "#Then we select the second column of y by 1 so that when spam, 1 appears, and when ham, 0 appears\n",
    "#.values change it from pandas series to numpy array\n",
    "y = y.iloc[:, 1].values "
   ]
  },
  {
   "cell_type": "code",
   "execution_count": 86,
   "id": "41a5ebad-7137-4f54-97ad-b6915b749a97",
   "metadata": {},
   "outputs": [],
   "source": [
    "#train test split\n",
    "from sklearn.model_selection import train_test_split\n",
    "X_train, X_test, y_train, y_test = train_test_split(X, y, test_size = .20, random_state = 420)\n",
    "\n",
    "#80% training data, 20% test data, seed = 420 for reusability purpose"
   ]
  },
  {
   "cell_type": "code",
   "execution_count": 90,
   "id": "4f1e6e8b-6121-4738-a338-a16d186fe7e4",
   "metadata": {},
   "outputs": [
    {
     "name": "stdout",
     "output_type": "stream",
     "text": [
      "[[953  15]\n",
      " [  3 144]]\n"
     ]
    }
   ],
   "source": [
    "#Training the model using Naive Bayes classifier\n",
    "from sklearn.naive_bayes import MultinomialNB\n",
    "spam_detect_model = MultinomialNB().fit(X_train, y_train)\n",
    "\n",
    "#prediction on test data\n",
    "y_pred = spam_detect_model.predict(X_test)\n",
    "\n",
    "#Confusion matrix\n",
    "from sklearn.metrics import confusion_matrix\n",
    "cm = confusion_matrix(y_test, y_pred)\n",
    "\n",
    "print(cm)"
   ]
  },
  {
   "cell_type": "code",
   "execution_count": 92,
   "id": "438aa3bc-b259-4f4c-82fc-3c1b8e81c60a",
   "metadata": {},
   "outputs": [
    {
     "name": "stdout",
     "output_type": "stream",
     "text": [
      "Precision: 0.9056603773584906\n",
      "Recall: 0.9795918367346939\n",
      "F1 Score: 0.9411764705882353\n",
      "Accuracy: 0.9838565022421525\n"
     ]
    }
   ],
   "source": [
    "from sklearn.metrics import precision_score, recall_score, f1_score, accuracy_score\n",
    "\n",
    "# Extracting TP, TN, FP, FN from the confusion matrix\n",
    "TP = cm[1, 1]  # True Positives\n",
    "TN = cm[0, 0]  # True Negatives\n",
    "FP = cm[0, 1]  # False Positives\n",
    "FN = cm[1, 0]  # False Negatives\n",
    "\n",
    "# Calculating precision\n",
    "precision = precision_score(y_test, y_pred)\n",
    "print(f'Precision: {precision}')\n",
    "\n",
    "# Calculating recall\n",
    "recall = recall_score(y_test, y_pred)\n",
    "print(f'Recall: {recall}')\n",
    "\n",
    "# Calculating F1 Score\n",
    "f1 = f1_score(y_test, y_pred)\n",
    "print(f'F1 Score: {f1}')\n",
    "\n",
    "# Calculating Accuracy\n",
    "accuracy = accuracy_score(y_test, y_pred)\n",
    "print(f'Accuracy: {accuracy}')\n"
   ]
  },
  {
   "cell_type": "code",
   "execution_count": 98,
   "id": "5fbe5599-dc50-400e-9b60-a3e83546bab3",
   "metadata": {},
   "outputs": [
    {
     "name": "stdout",
     "output_type": "stream",
     "text": [
      "AUC-ROC: 0.998327430145612\n"
     ]
    },
    {
     "data": {
      "image/png": "[encoded data removed]",
      "text/plain": [
       "<Figure size 640x480 with 1 Axes>"
      ]
     },
     "metadata": {},
     "output_type": "display_data"
    }
   ],
   "source": [
    "from sklearn.metrics import roc_auc_score, roc_curve\n",
    "import matplotlib.pyplot as plt\n",
    "\n",
    "# Getting predicted probabilities for the positive class\n",
    "y_prob = spam_detect_model.predict_proba(X_test)[:, 1]  # Probability of the positive class\n",
    "\n",
    "# Calculating AUC-ROC\n",
    "roc_auc = roc_auc_score(y_test, y_prob)\n",
    "print(f'AUC-ROC: {roc_auc}')\n",
    "\n",
    "# Plotting the ROC Curve\n",
    "fpr, tpr, thresholds = roc_curve(y_test, y_prob)\n",
    "\n",
    "plt.figure()\n",
    "plt.plot(fpr, tpr, color='blue', label='ROC curve (area = %0.2f)' % roc_auc)\n",
    "plt.plot([0, 1], [0, 1], color='red', linestyle='--')  # Diagonal line\n",
    "plt.xlim([0.0, 1.0])\n",
    "plt.ylim([0.0, 1.05])\n",
    "plt.xlabel('False Positive Rate')\n",
    "plt.ylabel('True Positive Rate')\n",
    "plt.title('Receiver Operating Characteristic')\n",
    "plt.legend(loc=\"lower right\")\n",
    "plt.show()\n"
   ]
  },
  {
   "cell_type": "markdown",
   "id": "00ad3a4f-a228-4ea4-b4ec-3ba253c0f110",
   "metadata": {},
   "source": [
    "# Model Performance Metrics Interpretation\r\n",
    "\r\n",
    "Interpreting the performance metrics in the context of an imbalanced dataset (14% spam and 86% ham) provides valuable insights into how well the model is performing. Let's analyze each of the provided metrics in detail:\r\n",
    "\r\n",
    "## 1. Precision: **0.9057** (approximately 90.57%)\r\n",
    "\r\n",
    "- **Interpretation**: Precision is the proportion of predicted positive cases (spam) that are actually positive. A precision of 90.57% indicates that when the model predicts a message as spam, it is correct about 90.57% of the time.\r\n",
    "- **Implications**: This is a relatively high precision score, suggesting that the model is effective at identifying spam and minimizing false positives (ham misclassified as spam). In a spam detection context, this is important because users generally prefer not to have legitimate emails incorrectly marked as spam.\r\n",
    "\r\n",
    "## 2. Recall: **0.9796** (approximately 97.96%)\r\n",
    "\r\n",
    "- **Interpretation**: Recall measures the proportion of actual positive cases (spam) that were correctly identified by the model. A recall of 97.96% means that the model successfully identifies nearly all the spam emails.\r\n",
    "- **Implications**: This indicates that the model is very effective at catching spam, with very few false negatives (spam misclassified as ham). In the context of spam detection, a high recall is critical, as missing spam emails can have negative consequences for users.\r\n",
    "\r\n",
    "## 3. F1 Score: **0.9412** (approximately 94.12%)\r\n",
    "\r\n",
    "- **Interpretation**: The F1 score is the harmonic mean of precision and recall, balancing the two metrics. An F1 score of 94.12% suggests that the model has a good balance between precision and recall.\r\n",
    "- **Implications**: A high F1 score indicates that the model performs well on both fronts—it's not just catching spam (high recall) but also doing so with a relatively low rate of false alarms (high precision). In scenarios where both false positives and false negatives are costly (e.g., spam detection), this metric is particularly useful.\r\n",
    "\r\n",
    "## 4. Accuracy: **0.9839** (approximately 98.39%)\r\n",
    "\r\n",
    "- **Interpretation**: Accuracy is the proportion of total correct predictions (both spam and ham) out of all predictions made. An accuracy of 98.39% indicates that the model correctly identifies a vast majority of messages.\r\n",
    "- **Implications**: While this accuracy is impressive, it's important to consider the class imbalance in the dataset. Given that 86% of the messages are ham, a model that simply predicts all messages as ham could achieve high accuracy but would fail at identifying any spam. Therefore, accuracy alone may not be a reliable measure of model performance in this context.\r\n",
    "\r\n",
    "## Summary and Model Performance\r\n",
    "\r\n",
    "Overall, the model exhibits strong performance in terms of precision, recall, and F1 score, suggesting it is well-suited for the task of spam detection:\r\n",
    "\r\n",
    "- **High Precision**: Indicates low false positive rate, which is crucial for user satisfaction.\r\n",
    "- **High Recall**: Indicates low false negative rate, meaning the model is effective at catching spam.\r\n",
    "- **High F1 Score**: Indicates a good balance between precision and recall, making it reliable in a critical application like spam detection.\r\n",
    "\r\n",
    "However, while accuracy is high, it should be interpreted cautiously due lt threshold of 0.5 may not be optimal.\r\n",
    "\r\n",
    "In conclusion, the model shows great promise for practical spam detection applications while remaining mindful of the imbalanced nature of the dataset.\r\n",
    "\r\n",
    "---\r\n",
    "\r\n",
    "# AUC-ROC Score Interpretation\r\n",
    "\r\n",
    "The AUC-ROC score of **0.9983** (approximately 99.83%) is an outstanding result and offers significant insights into the goodness of your spam detection model. Here’s how to interpret this score and what it means for the model's performance:\r\n",
    "\r\n",
    "## Understanding AUC-ROC\r\n",
    "\r\n",
    "**AUC (Area Under the Curve)**: This metric represents the area under the ROC curve, which is a plot of the true positive rate (sensitivity or recall) against the false positive rate (1 - specificity) at various threshold settings. The AUC score ranges from 0 to 1:\r\n",
    "\r\n",
    "- **AUC = 0.5**: The model has no discrimination ability (equivalent to random guessing).\r\n",
    "- **AUC < 0.5**: The model performs worse than random guessing.\r\n",
    "- **AUC = 1.0**: The model perfectly classifies all positive and negative cases.\r\n",
    "\r\n",
    "## Interpretation of AUC-ROC = 0.9983\r\n",
    "\r\n",
    "1. **Exceptional Discriminatory Power**: An AUC of 0.9983 indicates that the model has excellent discriminatory ability. It means that there is a 99.83% chance that the model will rank a randomly chosen positive instance (spam) higher than a randomly chosen negative instance (ham). This demonstrates that the model can effectively distinguish between spam and ham with very high confidence.\r\n",
    "\r\n",
    "2. **Robustness Across Thresholds**: The AUC-ROC score captures the model's performance across all possible classification thresholds, not just the default threshold of 0.5. This means that the model performs well regardless of the threshold you choose for making predictions. Such robustness is especially beneficial in practical applications where you may want to adjust the threshold based on the cost of false positives versus false negatives.\r\n",
    "\r\n",
    "3. **Generalization**: A high AUC-ROC suggests that the model is not just memorizing the training data but is generalizing well to unseen data. This is particularly important in spam detection, where new spam patterns may emerge.\r\n",
    "\r\n",
    "4. **Performance in Imbalanced Datasets**: The AUC-ROC metric is especially useful in the context of imbalanced datasets, such as your scenario with 14% spam. It provides a more reliable assessment of performance than accuracy alone, which could be misleading due to class imbalance.\r\n",
    "\r\n",
    "## Insights and Recommendations\r\n",
    "\r\n",
    "- **Model Confidence**: Given the extremely high AUC-ROC, you can be confident in the model's predictions, knowing that it is likely to perform well in a real-world spam detection scenario.\r\n",
    "\r\n",
    "- **Consider Further Testing**: While AUC-ROC is a strong indicator of model performance, it’s also advisable to evaluate other metrics like precision, recall, and F1 score, as you have already done. This helps ensure that the model is not only good at distinguishing classes but also at minimizing false positives and negatives.\r\n",
    "\r\n",
    "- **Monitor in Production**: Once deployed, continue monitoring the model’s performance, as changes in spam tactics can affect its accuracy over time. Regular retraining with updated data can help maintain its effectiveness.\r\n",
    "\r\n",
    "- **Threshold Adjustment**: Depending on the application, consider adjusting the classification threshold to optimize precision and recall based on business requirements or user preferences. For example, if false positives are particularly costly (i.e., legitimate emails marked as spam), you might choose a higher threshold.\r\n",
    "\r\n",
    "## Conclusion\r\n",
    "\r\n",
    "In summary, an AUC-ROC score of **0.9983** reflects a highly effective spam detection model with excellent capability to differentiate between spam and ham emails. The model is not only reliable but also robust across different scenarios and thresholds, making it well-suited for practical deployment in spam detection applications.\r\n"
   ]
  },
  {
   "cell_type": "code",
   "execution_count": null,
   "id": "c4feebfa-3a75-48c8-bf91-a3d2f5f12093",
   "metadata": {},
   "outputs": [],
   "source": []
  }
 ],
 "metadata": {
  "kernelspec": {
   "display_name": "Python 3 (ipykernel)",
   "language": "python",
   "name": "python3"
  },
  "language_info": {
   "codemirror_mode": {
    "name": "ipython",
    "version": 3
   },
   "file_extension": ".py",
   "mimetype": "text/x-python",
   "name": "python",
   "nbconvert_exporter": "python",
   "pygments_lexer": "ipython3",
   "version": "3.12.4"
  }
 },
 "nbformat": 4,
 "nbformat_minor": 5
}
